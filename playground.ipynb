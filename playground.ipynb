{
 "cells": [
  {
   "cell_type": "code",
   "execution_count": 31,
   "metadata": {},
   "outputs": [],
   "source": [
    "import pandas as pd"
   ]
  },
  {
   "cell_type": "code",
   "execution_count": 2,
   "metadata": {},
   "outputs": [],
   "source": [
    "data =pd.read_csv('data/Endpoints2 - Sheet1.csv')"
   ]
  },
  {
   "cell_type": "code",
   "execution_count": 5,
   "metadata": {},
   "outputs": [],
   "source": [
    "data.dropna(inplace=True)\n",
    "data.to_csv('data/endpoints.csv', index=False)"
   ]
  },
  {
   "cell_type": "code",
   "execution_count": 35,
   "metadata": {},
   "outputs": [],
   "source": [
    "data = pd.read_csv('data/endpoints.csv')"
   ]
  },
  {
   "cell_type": "code",
   "execution_count": 17,
   "metadata": {},
   "outputs": [],
   "source": [
    "# Define a list of strings to filter by\n",
    "filter_list = ['dreambooth', 'super_resolution', 'depth2img', 'pix2pix']\n",
    "\n",
    "# Combine the list into a single regex pattern with word boundaries\n",
    "regex_pattern = r'\\b(?:' + '|'.join(filter_list) + r')\\b'\n",
    "\n",
    "new_df = data[data['EndPoint'].str.contains(regex_pattern, regex=True, case=False)]"
   ]
  },
  {
   "cell_type": "code",
   "execution_count": 19,
   "metadata": {},
   "outputs": [],
   "source": [
    "filter_list = ['img2img', 'inpaint']\n",
    "# Combine the list into a single regex pattern with word boundaries\n",
    "regex_pattern = r'\\b(?:' + '|'.join(filter_list) + r')\\b'"
   ]
  },
  {
   "cell_type": "code",
   "execution_count": 27,
   "metadata": {},
   "outputs": [],
   "source": [
    "new_df[~new_df['EndPoint'].str.contains(regex_pattern, regex=True, case=False)].to_csv('data/endpoints_3.csv', index=False)"
   ]
  },
  {
   "cell_type": "code",
   "execution_count": 18,
   "metadata": {},
   "outputs": [
    {
     "name": "stdout",
     "output_type": "stream",
     "text": [
      "https://stablediffusionapi.com/api/v4/dreambooth\n",
      "https://stablediffusionapi.com/api/v4/dreambooth/img2img\n",
      "https://stablediffusionapi.com/api/v4/dreambooth/inpaint\n",
      "https://stablediffusionapi.com/api/v5/pix2pix\n",
      "https://stablediffusionapi.com/api/v5/depth2img\n",
      "https://stablediffusionapi.com/api/v3/super_resolution\n"
     ]
    }
   ],
   "source": [
    "for row in new_df.iterrows():\n",
    "    print(row[1]['EndPoint'])"
   ]
  },
  {
   "cell_type": "code",
   "execution_count": null,
   "metadata": {},
   "outputs": [],
   "source": []
  },
  {
   "cell_type": "code",
   "execution_count": null,
   "metadata": {},
   "outputs": [],
   "source": []
  }
 ],
 "metadata": {
  "kernelspec": {
   "display_name": "gpu_torch",
   "language": "python",
   "name": "python3"
  },
  "language_info": {
   "codemirror_mode": {
    "name": "ipython",
    "version": 3
   },
   "file_extension": ".py",
   "mimetype": "text/x-python",
   "name": "python",
   "nbconvert_exporter": "python",
   "pygments_lexer": "ipython3",
   "version": "3.11.3"
  },
  "orig_nbformat": 4
 },
 "nbformat": 4,
 "nbformat_minor": 2
}
